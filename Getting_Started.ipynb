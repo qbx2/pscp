{
  "nbformat": 4,
  "nbformat_minor": 0,
  "metadata": {
    "colab": {
      "name": "Getting Started with PSCP.ipynb",
      "version": "0.3.2",
      "provenance": [],
      "collapsed_sections": []
    },
    "kernelspec": {
      "name": "python3",
      "display_name": "Python 3"
    }
  },
  "cells": [
    {
      "metadata": {
        "id": "TZyhwWpLixTt",
        "colab_type": "text"
      },
      "cell_type": "markdown",
      "source": [
        "### Install pscp and tensorboardX"
      ]
    },
    {
      "metadata": {
        "id": "smmRZBe3iNmI",
        "colab_type": "code",
        "colab": {
          "base_uri": "https://localhost:8080/",
          "height": 272
        },
        "outputId": "827eb4d5-e96e-47a8-facc-7a2c53c832b7"
      },
      "cell_type": "code",
      "source": [
        "!pip install pscp==0.0.2 tensorboardX==1.6"
      ],
      "execution_count": 1,
      "outputs": [
        {
          "output_type": "stream",
          "text": [
            "Collecting pscp==0.0.2\n",
            "  Downloading https://files.pythonhosted.org/packages/7e/3e/3541bd812a83d3a48e4a384a8e21347743aeec2917f9b4834e5c4493c834/pscp-0.0.2.tar.gz\n",
            "Collecting tensorboardX==1.6\n",
            "\u001b[?25l  Downloading https://files.pythonhosted.org/packages/5c/76/89dd44458eb976347e5a6e75eb79fecf8facd46c1ce259bad54e0044ea35/tensorboardX-1.6-py2.py3-none-any.whl (129kB)\n",
            "\u001b[K    100% |████████████████████████████████| 133kB 3.9MB/s \n",
            "\u001b[?25hRequirement already satisfied: protobuf>=3.2.0 in /usr/local/lib/python3.6/dist-packages (from tensorboardX==1.6) (3.6.1)\n",
            "Requirement already satisfied: numpy in /usr/local/lib/python3.6/dist-packages (from tensorboardX==1.6) (1.14.6)\n",
            "Requirement already satisfied: six in /usr/local/lib/python3.6/dist-packages (from tensorboardX==1.6) (1.11.0)\n",
            "Requirement already satisfied: setuptools in /usr/local/lib/python3.6/dist-packages (from protobuf>=3.2.0->tensorboardX==1.6) (40.7.3)\n",
            "Building wheels for collected packages: pscp\n",
            "  Building wheel for pscp (setup.py) ... \u001b[?25ldone\n",
            "\u001b[?25h  Stored in directory: /root/.cache/pip/wheels/30/e2/eb/c75a38e84d86233ab2283fa26195d2a12680e95c21bae6f75e\n",
            "Successfully built pscp\n",
            "Installing collected packages: pscp, tensorboardX\n",
            "Successfully installed pscp-0.0.2 tensorboardX-1.6\n"
          ],
          "name": "stdout"
        }
      ]
    },
    {
      "metadata": {
        "id": "VLdlZ0CIlozd",
        "colab_type": "text"
      },
      "cell_type": "markdown",
      "source": [
        "### Initialize Git Repository"
      ]
    },
    {
      "metadata": {
        "id": "Sn53uwWWlu3t",
        "colab_type": "code",
        "colab": {
          "base_uri": "https://localhost:8080/",
          "height": 85
        },
        "outputId": "9708bc0d-2d30-4c40-f4cf-7455df440560"
      },
      "cell_type": "code",
      "source": [
        "!git init\n",
        "!git config user.email example@example.com\n",
        "!echo LEARNING_RATE_OR_WHATEVER=0.1 > config.txt\n",
        "!git add config.txt && git commit -m \"Initial commit\""
      ],
      "execution_count": 2,
      "outputs": [
        {
          "output_type": "stream",
          "text": [
            "Initialized empty Git repository in /content/.git/\n",
            "[master (root-commit) 1ba5822] Initial commit\n",
            " 1 file changed, 1 insertion(+)\n",
            " create mode 100644 config.txt\n"
          ],
          "name": "stdout"
        }
      ]
    },
    {
      "metadata": {
        "id": "dXMUNCgYp16f",
        "colab_type": "text"
      },
      "cell_type": "markdown",
      "source": [
        "### Make a change to config.txt"
      ]
    },
    {
      "metadata": {
        "id": "Zb3JlBkKp2TX",
        "colab_type": "code",
        "colab": {}
      },
      "cell_type": "code",
      "source": [
        "!echo LEARNING_RATE_OR_WHATEVER=0.05 > config.txt"
      ],
      "execution_count": 0,
      "outputs": []
    },
    {
      "metadata": {
        "id": "sJuS7NBgiwW8",
        "colab_type": "text"
      },
      "cell_type": "markdown",
      "source": [
        "### Import libraries\n",
        "\n",
        "`math` is just for `sin` and `pi`."
      ]
    },
    {
      "metadata": {
        "id": "foJRer4PiokC",
        "colab_type": "code",
        "colab": {}
      },
      "cell_type": "code",
      "source": [
        "from math import sin, pi\n",
        "\n",
        "import pscp\n",
        "import tensorboardX"
      ],
      "execution_count": 0,
      "outputs": []
    },
    {
      "metadata": {
        "id": "I2jynkdGq72J",
        "colab_type": "text"
      },
      "cell_type": "markdown",
      "source": [
        "Create checkpoint."
      ]
    },
    {
      "metadata": {
        "id": "6WIKLeyHiuuA",
        "colab_type": "code",
        "colab": {
          "base_uri": "https://localhost:8080/",
          "height": 34
        },
        "outputId": "b94a92a5-34dc-4581-a8c8-5dcb9a28dce5"
      },
      "cell_type": "code",
      "source": [
        "h = pscp.create()\n",
        "print(h)"
      ],
      "execution_count": 5,
      "outputs": [
        {
          "output_type": "stream",
          "text": [
            "757fad0\n"
          ],
          "name": "stdout"
        }
      ]
    },
    {
      "metadata": {
        "id": "dosIc3QBq9jm",
        "colab_type": "text"
      },
      "cell_type": "markdown",
      "source": [
        "Create SummaryWriter, using hash-concatenated session name."
      ]
    },
    {
      "metadata": {
        "id": "b9vPgZPgnBDS",
        "colab_type": "code",
        "colab": {}
      },
      "cell_type": "code",
      "source": [
        "writer = tensorboardX.SummaryWriter('logdir/some-session-{}'.format(h))"
      ],
      "execution_count": 0,
      "outputs": []
    },
    {
      "metadata": {
        "id": "9J99flkbrEuq",
        "colab_type": "text"
      },
      "cell_type": "markdown",
      "source": [
        "Log metrics using writer. For details, please refer to [tensorboardX](https://github.com/lanpa/tensorboardX)."
      ]
    },
    {
      "metadata": {
        "id": "hdd5bzWDnwUC",
        "colab_type": "code",
        "colab": {}
      },
      "cell_type": "code",
      "source": [
        "for step in range(400):\n",
        "\tsin_step = sin(step * pi / 180.)\n",
        "\twriter.add_scalar('pscp_example/sin_step', sin_step, step)\n",
        "\n",
        "writer.close()"
      ],
      "execution_count": 0,
      "outputs": []
    },
    {
      "metadata": {
        "id": "S2Qe97kBrHVp",
        "colab_type": "text"
      },
      "cell_type": "markdown",
      "source": [
        "Now, let's see the output."
      ]
    },
    {
      "metadata": {
        "id": "c7i9y1zpnLUI",
        "colab_type": "code",
        "colab": {
          "base_uri": "https://localhost:8080/",
          "height": 357
        },
        "outputId": "29df67ce-02ec-45e8-af60-8fe9392485eb"
      },
      "cell_type": "code",
      "source": [
        "!ls -l\n",
        "!ls -l logdir/\n",
        "!git show {h}"
      ],
      "execution_count": 8,
      "outputs": [
        {
          "output_type": "stream",
          "text": [
            "total 12\n",
            "-rw-r--r-- 1 root root   31 Feb  7 06:41 config.txt\n",
            "drwxr-xr-x 3 root root 4096 Feb  7 06:41 logdir\n",
            "drwxr-xr-x 1 root root 4096 Feb  4 17:13 sample_data\n",
            "total 4\n",
            "drwxr-xr-x 2 root root 4096 Feb  7 06:41 some-session-757fad0\n",
            "\u001b[33mcommit 757fad0e7c380ffafc75af4931e748954dcc43af\u001b[m\u001b[33m (\u001b[m\u001b[mrefs/pscp/1549521712422\u001b[m\u001b[33m)\u001b[m\n",
            "Merge: 1ba5822 8bddba0\n",
            "Author: root <example@example.com>\n",
            "Date:   Thu Feb 7 06:41:52 2019 +0000\n",
            "\n",
            "    WIP on master: 1ba5822 Initial commit\n",
            "\n",
            "\u001b[1mdiff --cc config.txt\u001b[m\n",
            "\u001b[1mindex fbb1eb2,fbb1eb2..7b141ac\u001b[m\n",
            "\u001b[1m--- a/config.txt\u001b[m\n",
            "\u001b[1m+++ b/config.txt\u001b[m\n",
            "\u001b[36m@@@ -1,1 -1,1 +1,1 @@@\u001b[m\n",
            "\u001b[31m--LEARNING_RATE_OR_WHATEVER=0.1\u001b[m\n",
            "\u001b[32m++LEARNING_RATE_OR_WHATEVER=0.05\u001b[m\n"
          ],
          "name": "stdout"
        }
      ]
    },
    {
      "metadata": {
        "id": "OMwjI-8crJoP",
        "colab_type": "text"
      },
      "cell_type": "markdown",
      "source": [
        "We would be able to see the checkpoint hash of each session in `Runs`.\n",
        "Make a change to config.txt, any scripts, or any tracked files and re-run the script to create another session.\n",
        "\n",
        "For demonstration, we're going to change config.txt and just `pscp.create()`."
      ]
    },
    {
      "metadata": {
        "id": "Wpx2bGdzrKaB",
        "colab_type": "code",
        "colab": {}
      },
      "cell_type": "code",
      "source": [
        "!echo LEARNING_RATE_OR_WHATEVER=0.01 > config.txt"
      ],
      "execution_count": 0,
      "outputs": []
    },
    {
      "metadata": {
        "id": "xFuQXp6esp6x",
        "colab_type": "code",
        "colab": {
          "base_uri": "https://localhost:8080/",
          "height": 34
        },
        "outputId": "3bf7cacd-548b-4d51-e8ff-9ad47d2c3861"
      },
      "cell_type": "code",
      "source": [
        "import pscp\n",
        "h2 = pscp.create()\n",
        "print(h2)"
      ],
      "execution_count": 10,
      "outputs": [
        {
          "output_type": "stream",
          "text": [
            "df403bf\n"
          ],
          "name": "stdout"
        }
      ]
    },
    {
      "metadata": {
        "id": "CIKu1TncrMQ8",
        "colab_type": "code",
        "colab": {
          "base_uri": "https://localhost:8080/",
          "height": 255
        },
        "outputId": "cdeeb927-e01b-4fdf-cdf4-a90d5b5fabcd"
      },
      "cell_type": "code",
      "source": [
        "!git show {h2}"
      ],
      "execution_count": 12,
      "outputs": [
        {
          "output_type": "stream",
          "text": [
            "\u001b[33mcommit df403bf1f08cd64eab4943dc83a4637e75e746fc\u001b[m\u001b[33m (\u001b[m\u001b[mrefs/pscp/1549521824490\u001b[m\u001b[33m)\u001b[m\n",
            "Merge: 1ba5822 f3c34c7\n",
            "Author: root <example@example.com>\n",
            "Date:   Thu Feb 7 06:43:44 2019 +0000\n",
            "\n",
            "    WIP on master: 1ba5822 Initial commit\n",
            "\n",
            "\u001b[1mdiff --cc config.txt\u001b[m\n",
            "\u001b[1mindex fbb1eb2,fbb1eb2..d36cf89\u001b[m\n",
            "\u001b[1m--- a/config.txt\u001b[m\n",
            "\u001b[1m+++ b/config.txt\u001b[m\n",
            "\u001b[36m@@@ -1,1 -1,1 +1,1 @@@\u001b[m\n",
            "\u001b[31m--LEARNING_RATE_OR_WHATEVER=0.1\u001b[m\n",
            "\u001b[32m++LEARNING_RATE_OR_WHATEVER=0.01\u001b[m\n"
          ],
          "name": "stdout"
        }
      ]
    },
    {
      "metadata": {
        "id": "5Kd6Ip64tfad",
        "colab_type": "code",
        "colab": {
          "base_uri": "https://localhost:8080/",
          "height": 136
        },
        "outputId": "b2276fbe-9919-4675-bd41-7c59b18a95ec"
      },
      "cell_type": "code",
      "source": [
        "!git diff {h}..{h2}"
      ],
      "execution_count": 13,
      "outputs": [
        {
          "output_type": "stream",
          "text": [
            "\u001b[1mdiff --git a/config.txt b/config.txt\u001b[m\n",
            "\u001b[1mindex 7b141ac..d36cf89 100644\u001b[m\n",
            "\u001b[1m--- a/config.txt\u001b[m\n",
            "\u001b[1m+++ b/config.txt\u001b[m\n",
            "\u001b[36m@@ -1 +1 @@\u001b[m\n",
            "\u001b[31m-LEARNING_RATE_OR_WHATEVER=0.05\u001b[m\n",
            "\u001b[32m+\u001b[m\u001b[32mLEARNING_RATE_OR_WHATEVER=0.01\u001b[m\n"
          ],
          "name": "stdout"
        }
      ]
    }
  ]
}
